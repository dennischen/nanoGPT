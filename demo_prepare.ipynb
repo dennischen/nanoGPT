{
 "cells": [
  {
   "cell_type": "markdown",
   "id": "e6982b4f-6eed-41b2-b7c6-291eb44b4d9a",
   "metadata": {},
   "source": [
    "Activate a conda environment and install following packages by\n",
    "```\n",
    "conda install -c conda-forge pytorch numpy transformers datasets tiktoken wandb tqdm -y\n",
    "```"
   ]
  },
  {
   "cell_type": "markdown",
   "id": "5942672d-d7b4-47a7-be8e-554313985681",
   "metadata": {},
   "source": [
    "Before re-run demo_train.py, you have to prepare the data first by following command\n",
    "```\n",
    "python data/shakespeare_char/prepare.py\n",
    "```"
   ]
  },
  {
   "cell_type": "code",
   "execution_count": null,
   "id": "59bbaedb-6e1d-4ec3-ad07-f53fadbdbd5d",
   "metadata": {},
   "outputs": [],
   "source": []
  }
 ],
 "metadata": {
  "kernelspec": {
   "display_name": "Python 3 (ipykernel)",
   "language": "python",
   "name": "python3"
  },
  "language_info": {
   "codemirror_mode": {
    "name": "ipython",
    "version": 3
   },
   "file_extension": ".py",
   "mimetype": "text/x-python",
   "name": "python",
   "nbconvert_exporter": "python",
   "pygments_lexer": "ipython3",
   "version": "3.11.4"
  }
 },
 "nbformat": 4,
 "nbformat_minor": 5
}
